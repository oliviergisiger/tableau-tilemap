{
 "cells": [
  {
   "cell_type": "code",
   "execution_count": 26,
   "id": "4471f047",
   "metadata": {},
   "outputs": [],
   "source": [
    "import pandas as pd\n",
    "import numpy as np"
   ]
  },
  {
   "cell_type": "code",
   "execution_count": 27,
   "id": "b5688e60",
   "metadata": {},
   "outputs": [],
   "source": [
    "file_path = \"/Users/oliviergisiger/OneDrive - Hochschule Luzern/Eigene Dateien/DE_GD - Project/Tableau/acc_death_strnams-fixed.csv\""
   ]
  },
  {
   "cell_type": "code",
   "execution_count": 28,
   "id": "5420f827",
   "metadata": {},
   "outputs": [],
   "source": [
    "acc_data = pd.read_csv(file_path)\n",
    "min_date = acc_data[\"AccidentYear\"].min()\n",
    "max_date = acc_data[\"AccidentYear\"].max()"
   ]
  },
  {
   "cell_type": "code",
   "execution_count": 29,
   "id": "df8cd005",
   "metadata": {},
   "outputs": [],
   "source": [
    "acc_data_pivot = acc_data.pivot(index=[\"AccidentUID\", \"AccidentYear\"], columns=\"canton\").fillna(0)"
   ]
  },
  {
   "cell_type": "code",
   "execution_count": 44,
   "id": "ad86ad74",
   "metadata": {},
   "outputs": [],
   "source": [
    "time_serie = pd.DataFrame(np.array(range(min_date, max_date + 1)), columns=[\"Y\"]).set_index(\"Y\")"
   ]
  },
  {
   "cell_type": "code",
   "execution_count": 52,
   "id": "69c60709",
   "metadata": {},
   "outputs": [],
   "source": [
    "df_j = time_serie.merge(acc_data_pivot, how=\"left\", left_index=True, right_on=\"AccidentYear\")\n",
    "df_j.melt().to_csv(\"joined_accidents.csv\")"
   ]
  },
  {
   "cell_type": "code",
   "execution_count": 58,
   "id": "33aa9ef8",
   "metadata": {},
   "outputs": [
    {
     "data": {
      "text/plain": [
       "0.012"
      ]
     },
     "execution_count": 58,
     "metadata": {},
     "output_type": "execute_result"
    }
   ],
   "source": [
    "(0.06 * 0.2)"
   ]
  }
 ],
 "metadata": {
  "kernelspec": {
   "display_name": "Python 3",
   "language": "python",
   "name": "python3"
  },
  "language_info": {
   "codemirror_mode": {
    "name": "ipython",
    "version": 3
   },
   "file_extension": ".py",
   "mimetype": "text/x-python",
   "name": "python",
   "nbconvert_exporter": "python",
   "pygments_lexer": "ipython3",
   "version": "3.8.8"
  }
 },
 "nbformat": 4,
 "nbformat_minor": 5
}
