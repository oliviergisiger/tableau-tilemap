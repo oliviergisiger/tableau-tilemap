{
 "cells": [
  {
   "cell_type": "code",
   "execution_count": 3,
   "id": "e93809ec",
   "metadata": {},
   "outputs": [],
   "source": [
    "import pandas as pd"
   ]
  },
  {
   "cell_type": "code",
   "execution_count": 4,
   "id": "2991b8b0",
   "metadata": {},
   "outputs": [],
   "source": [
    "file_path = \"/Users/oliviergisiger/OneDrive - Hochschule Luzern/Eigene Dateien/DE_GD - Project/Tableau/acc_death_strnams-fixed.csv\""
   ]
  },
  {
   "cell_type": "code",
   "execution_count": 11,
   "id": "6b0a042b",
   "metadata": {},
   "outputs": [
    {
     "name": "stdout",
     "output_type": "stream",
     "text": [
      "<class 'pandas.core.frame.DataFrame'>\n",
      "RangeIndex: 2899 entries, 0 to 2898\n",
      "Data columns (total 28 columns):\n",
      " #   Column                       Non-Null Count  Dtype  \n",
      "---  ------                       --------------  -----  \n",
      " 0   Unnamed: 0                   2260 non-null   float64\n",
      " 1   AccidentUID                  2260 non-null   object \n",
      " 2   AccidentType                 2260 non-null   object \n",
      " 3   AccidentType_de              2260 non-null   object \n",
      " 4   AccidentSeverityCategory     2260 non-null   object \n",
      " 5   AccidentSeverityCategory_de  2260 non-null   object \n",
      " 6   AccidentInvolvingPedestrian  2260 non-null   object \n",
      " 7   AccidentInvolvingBicycle     2260 non-null   object \n",
      " 8   AccidentInvolvingMotorcycle  2260 non-null   object \n",
      " 9   RoadType                     2260 non-null   object \n",
      " 10  RoadType_de                  2260 non-null   object \n",
      " 11  AccidentLocation_CHLV95_E    2260 non-null   float64\n",
      " 12  AccidentLocation_CHLV95_N    2260 non-null   float64\n",
      " 13  CantonCode                   2899 non-null   object \n",
      " 14  MunicipalityCode             2260 non-null   float64\n",
      " 15  AccidentYear                 2275 non-null   float64\n",
      " 16  AccidentMonth                2260 non-null   float64\n",
      " 17  AccidentMonth_de             2260 non-null   object \n",
      " 18  AccidentWeekDay              2260 non-null   object \n",
      " 19  AccidentWeekDay_de           2260 non-null   object \n",
      " 20  AccidentHour                 2884 non-null   float64\n",
      " 21  AccidentHour_text            2260 non-null   object \n",
      " 22  canton                       2260 non-null   object \n",
      " 23  population                   2260 non-null   float64\n",
      " 24  latitude                     2260 non-null   float64\n",
      " 25  longitude                    2260 non-null   float64\n",
      " 26  str_name                     2260 non-null   object \n",
      " 27  acc_count                    2898 non-null   float64\n",
      "dtypes: float64(11), object(17)\n",
      "memory usage: 634.3+ KB\n"
     ]
    }
   ],
   "source": [
    "acc_data = pd.read_csv(file_path, sep=\";\")\n",
    "\n",
    "acc_data.info()"
   ]
  }
 ],
 "metadata": {
  "kernelspec": {
   "display_name": "Python 3",
   "language": "python",
   "name": "python3"
  },
  "language_info": {
   "codemirror_mode": {
    "name": "ipython",
    "version": 3
   },
   "file_extension": ".py",
   "mimetype": "text/x-python",
   "name": "python",
   "nbconvert_exporter": "python",
   "pygments_lexer": "ipython3",
   "version": "3.8.8"
  }
 },
 "nbformat": 4,
 "nbformat_minor": 5
}
